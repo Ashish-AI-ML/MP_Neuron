{
 "cells": [
  {
   "cell_type": "code",
   "execution_count": 1,
   "id": "4c30437d-798b-4bcc-8b7c-e2de84a873c6",
   "metadata": {},
   "outputs": [],
   "source": [
    "import numpy as np\n",
    "import pandas as pd\n",
    "import matplotlib.pyplot as plt\n",
    "import seaborn as sns\n",
    "import sklearn.datasets"
   ]
  },
  {
   "cell_type": "code",
   "execution_count": null,
   "id": "9ddc466d-a368-441f-88e7-ab3fc20571c1",
   "metadata": {},
   "outputs": [],
   "source": [
    "pattern = np.array([[0,1,0],[0,1,0],[0,1,0]])"
   ]
  },
  {
   "cell_type": "code",
   "execution_count": null,
   "id": "8e9d9c50-07a4-4439-91ae-529ef1a54887",
   "metadata": {},
   "outputs": [],
   "source": [
    "images = [np.array([[0,1,0],[0,1,0],[0,1,0]]),\n",
    "          np.array([[0,1,0],[0,1,0],[0,1,0]]),\n",
    "          np.array([[0,1,0],[0,1,0],[0,1,0]]),\n",
    "          np.array([[0,1,0],[0,1,0],[0,1,0]])]"
   ]
  },
  {
   "cell_type": "code",
   "execution_count": null,
   "id": "a85e3d60-c16f-46e9-aa28-862e05ef8622",
   "metadata": {},
   "outputs": [],
   "source": [
    "X=[]\n",
    "Y=[]\n",
    "for img in images:\n",
    "    match = img*pattern\n",
    "    X.append(match.flatten())\n",
    "    Y.append(1 if np.sum(match)==3 else 0)\n",
    "\n",
    "X=np.array(X)\n",
    "\n",
    "Y=np.array(Y)\n",
    "\n",
    "pattern_recog=MPNeuron\n"
   ]
  },
  {
   "cell_type": "code",
   "execution_count": null,
   "id": "2c344a0a-49f8-4445-9d83-335b02336c09",
   "metadata": {},
   "outputs": [],
   "source": []
  },
  {
   "cell_type": "code",
   "execution_count": null,
   "id": "486a9b69-f711-4985-96fd-222949dbe1d0",
   "metadata": {},
   "outputs": [],
   "source": []
  },
  {
   "cell_type": "code",
   "execution_count": null,
   "id": "95479005-b740-4cc6-9223-7711e33cab15",
   "metadata": {},
   "outputs": [],
   "source": []
  },
  {
   "cell_type": "code",
   "execution_count": null,
   "id": "f9b4bc35-88a2-4a54-bbca-e0a257700836",
   "metadata": {},
   "outputs": [],
   "source": []
  },
  {
   "cell_type": "code",
   "execution_count": null,
   "id": "8607f37a-286e-4274-8608-5fa4a92a9581",
   "metadata": {},
   "outputs": [],
   "source": []
  },
  {
   "cell_type": "code",
   "execution_count": null,
   "id": "2837b953-6e61-4ca6-8769-fcb7e2b3a572",
   "metadata": {},
   "outputs": [],
   "source": []
  },
  {
   "cell_type": "code",
   "execution_count": null,
   "id": "7bd74ac0-f1fa-4ecd-901f-c0dc28fc3abf",
   "metadata": {},
   "outputs": [],
   "source": []
  }
 ],
 "metadata": {
  "kernelspec": {
   "display_name": "Python 3 (ipykernel)",
   "language": "python",
   "name": "python3"
  },
  "language_info": {
   "codemirror_mode": {
    "name": "ipython",
    "version": 3
   },
   "file_extension": ".py",
   "mimetype": "text/x-python",
   "name": "python",
   "nbconvert_exporter": "python",
   "pygments_lexer": "ipython3",
   "version": "3.12.7"
  }
 },
 "nbformat": 4,
 "nbformat_minor": 5
}
